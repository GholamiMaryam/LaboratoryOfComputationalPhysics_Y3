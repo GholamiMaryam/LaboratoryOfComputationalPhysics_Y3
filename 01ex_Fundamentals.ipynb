{
 "cells": [
  {
   "cell_type": "markdown",
   "metadata": {},
   "source": [
    "1\\. Write the following as a list comprehension"
   ]
  },
  {
   "cell_type": "code",
   "execution_count": 22,
   "metadata": {},
   "outputs": [
    {
     "name": "stdout",
     "output_type": "stream",
     "text": [
      "[(0, 0), (0, 1), (0, 2), (0, 3), (1, 0), (1, 1), (1, 2), (1, 3), (2, 0), (2, 1), (2, 2), (2, 3)]\n",
      "[0, 4, 16]\n"
     ]
    }
   ],
   "source": [
    "# 1\n",
    "ans = []\n",
    "for i in range(3):\n",
    "    for j in range(4):\n",
    "        ans.append((i, j))\n",
    "print (ans)\n",
    "\n",
    "# 2\n",
    "ans = map(lambda x: x*x, filter(lambda x: x%2 == 0, range(5)))\n",
    "print (list(ans))\n",
    "\n",
    "\n"
   ]
  },
  {
   "cell_type": "code",
   "execution_count": 2,
   "metadata": {},
   "outputs": [
    {
     "name": "stdout",
     "output_type": "stream",
     "text": [
      "[(0, 0), (0, 1), (0, 2), (0, 3), (1, 0), (1, 1), (1, 2), (1, 3), (2, 0), (2, 1), (2, 2), (2, 3)]\n",
      "[0, 4, 16]\n"
     ]
    }
   ],
   "source": [
    "# 1\n",
    "print([(i,j)for i in range(3) for j in range(4)])\n",
    "\n",
    "# 2\n",
    "print([ i*i for i in range(0,5,2) ])\n"
   ]
  },
  {
   "cell_type": "markdown",
   "metadata": {},
   "source": [
    "2\\. Convert the following function into a pure function with no global variables or side effects"
   ]
  },
  {
   "cell_type": "code",
   "execution_count": 4,
   "metadata": {},
   "outputs": [
    {
     "name": "stdout",
     "output_type": "stream",
     "text": [
      "[1, 2, 3, 0, 1, 2, 3, 4]\n",
      "[1, 2, 3, 0, 1, 2, 3, 4]\n"
     ]
    }
   ],
   "source": [
    "x = 5\n",
    "def f(alist):\n",
    "    for i in range(x):\n",
    "         alist.append(i)\n",
    "    return alist\n",
    "\n",
    "alist = [1,2,3]\n",
    "ans = f(alist)\n",
    "print (ans)\n",
    "print (alist) # alist has been changed!"
   ]
  },
  {
   "cell_type": "code",
   "execution_count": 20,
   "metadata": {},
   "outputs": [
    {
     "name": "stdout",
     "output_type": "stream",
     "text": [
      "[1, 2, 3, 0, 1, 2, 3, 4]\n",
      "[1, 2, 3]\n"
     ]
    }
   ],
   "source": [
    "def f(alist, nx):\n",
    "    l=[i for i in alist]\n",
    "    for i in range(nx):\n",
    "        l.append(i)\n",
    "    return l    \n",
    "\n",
    "    \n",
    "alist = [1,2,3]\n",
    "ans = f(alist,5)\n",
    "print (ans)\n",
    "print (alist) # alist has not been changed!"
   ]
  },
  {
   "cell_type": "markdown",
   "metadata": {},
   "source": [
    "3\\. Write a `decorator` hello that makes every wrapped function print “Hello!”, i.e. something like:\n",
    "\n",
    "```python\n",
    "@hello\n",
    "def square(x):\n",
    "    return x*x\n",
    "```\n",
    "\n"
   ]
  },
  {
   "cell_type": "code",
   "execution_count": 9,
   "metadata": {},
   "outputs": [
    {
     "name": "stdout",
     "output_type": "stream",
     "text": [
      "Hello!\n",
      "4\n",
      "The function returned the square amount of x\n"
     ]
    }
   ],
   "source": [
    "def my_decorator(func):\n",
    "    def wrapper(x):\n",
    "        print(\"Hello!\")\n",
    "        a=func(x)\n",
    "        print(a)\n",
    "        print(\"The function returned the square amount of x\")\n",
    "        return a\n",
    "    return wrapper\n",
    "\n",
    "\n",
    "@my_decorator\n",
    "def square(x):\n",
    "    return(x*x)\n",
    "b=square(2)\n"
   ]
  },
  {
   "cell_type": "markdown",
   "metadata": {},
   "source": [
    "4\\. Write the factorial function so that it a) does and b) does not use recursion."
   ]
  },
  {
   "cell_type": "code",
   "execution_count": 19,
   "metadata": {},
   "outputs": [
    {
     "name": "stdout",
     "output_type": "stream",
     "text": [
      "120\n",
      "120\n"
     ]
    }
   ],
   "source": [
    "def fact1(n):\n",
    "    \"\"\"factorial with recursion.\"\"\"\n",
    "\n",
    "   # base case\n",
    "    if n==0 or n==1:\n",
    "        return 1\n",
    "    # recurssive case\n",
    "    else:\n",
    "        return n * fact1(n-1)\n",
    "    \n",
    "print (fact1(5))\n",
    "\n",
    "# def fact2(n):\n",
    "#     \"\"\"factorial without recursion.\"\"\"\n",
    "#     a,b=1,2\n",
    "#     for i in range(1,n-1):\n",
    "#         a,b=a*b,b+1\n",
    "        \n",
    "#     return a*b\n",
    "\n",
    "# print (fact2(3))\n",
    "\n",
    "def fact3(n):\n",
    "    \"\"\"factorial without recursion.\"\"\"\n",
    "    b=1\n",
    "    for i in range(2,n+1):\n",
    "        b=b*i\n",
    "    return b\n",
    "\n",
    "print(fact3(5))\n",
    "    "
   ]
  },
  {
   "cell_type": "markdown",
   "metadata": {},
   "source": [
    "5\\. Use HOFs (zip in particular) to compute the weight of a circle, a disk and a sphere, assuming different radii and different densities:\n",
    "\n",
    "```python\n",
    "densities = {\"Al\":[0.5,1,2],\"Fe\":[3,4,5],\"Pb\": [15,20,30]}\n",
    "radii = [1,2,3]\n",
    "```\n",
    "\n",
    "where the entries of the dictionary's values are the linear, superficial and volumetric densities of the materials respectively.\n",
    "\n",
    "In particular define a list of three lambda functions using a comprehension that computes the circumference, the area and the volume for a given radius.\n"
   ]
  },
  {
   "cell_type": "code",
   "execution_count": 23,
   "metadata": {},
   "outputs": [
    {
     "name": "stdout",
     "output_type": "stream",
     "text": [
      "Element :: Al , shape Circ with R= 1, Weigth is :: 3.141592653589793\n",
      "Element :: Al , shape Disk with R= 2, Weigth is :: 12.566370614359172\n",
      "Element :: Al , shape Sphere with R= 3, Weigth is :: 226.1946710584651\n",
      "\n",
      "\n",
      "Element :: Fe , shape Circ with R= 1, Weigth is :: 18.84955592153876\n",
      "Element :: Fe , shape Disk with R= 2, Weigth is :: 50.26548245743669\n",
      "Element :: Fe , shape Sphere with R= 3, Weigth is :: 565.4866776461628\n",
      "\n",
      "\n",
      "Element :: Pb , shape Circ with R= 1, Weigth is :: 94.24777960769379\n",
      "Element :: Pb , shape Disk with R= 2, Weigth is :: 251.32741228718345\n",
      "Element :: Pb , shape Sphere with R= 3, Weigth is :: 3392.9200658769764\n",
      "\n",
      "\n"
     ]
    }
   ],
   "source": [
    "import numpy as np\n",
    "densities = {\"Al\": [0.5,1.,2.], \"Fe\": [3,4,5], \"Pb\":[15,20,30]}\n",
    "radii = [1,2,3]\n",
    "weight = {\"Circ\": lambda x,ra: 2*np.pi*ra*x,\n",
    "         \"Disk\": lambda x,ra: np.pi*ra*ra*x,\n",
    "         \"Sphere\":lambda x,ra: 4*np.pi*ra*ra*ra*x/3.}\n",
    "\n",
    "for d in densities:\n",
    "    for r, w, den  in zip(radii, weight, densities[d]):\n",
    "        print(\"Element :: {} , shape {} with R= {}, Weigth is :: {}\".format(d, w, r, weight[w](den,r)))\n",
    "    print(\"\\n\")\n",
    "    \n"
   ]
  },
  {
   "cell_type": "markdown",
   "metadata": {},
   "source": [
    "6\\. Edit the class defintion to add an instance attribute of is_hungry = True to the Dog class. Then add a method called eat() which changes the value of is_hungry to False when called. Figure out the best way to feed each dog and then output “My dogs are hungry.” if all are hungry or “My dogs are not hungry.” if all are not hungry. The final output should look like this:\n",
    "\n",
    "`I have 3 dogs. \n",
    "Tom is 6. \n",
    "Fletcher is 7. \n",
    "Larry is 9. \n",
    "And they're all mammals, of course. \n",
    "My dogs are not hungry.\n",
    "`\n",
    "\n",
    "```python\n",
    "# Parent class\n",
    "class Dog:\n",
    "\n",
    "    # Class attribute\n",
    "    species = 'mammal'\n",
    "\n",
    "    # Initializer / Instance attributes\n",
    "    def __init__(self, name, age):\n",
    "        self.name = name\n",
    "        self.age = age\n",
    "\n",
    "    # instance method\n",
    "    def description(self):\n",
    "        return \"{} is {} years old\".format(self.name, self.age)\n",
    "\n",
    "    # instance method\n",
    "    def speak(self, sound):\n",
    "        return \"{} says {}\".format(self.name, sound)\n",
    "\n",
    "# Child class (inherits from Dog class)\n",
    "class RussellTerrier(Dog):\n",
    "    def run(self, speed):\n",
    "        return \"{} runs {}\".format(self.name, speed)\n",
    "\n",
    "# Child class (inherits from Dog class)\n",
    "class Bulldog(Dog):\n",
    "    def run(self, speed):\n",
    "        return \"{} runs {}\".format(self.name, speed)\n",
    "```"
   ]
  },
  {
   "cell_type": "code",
   "execution_count": 25,
   "metadata": {},
   "outputs": [
    {
     "name": "stdout",
     "output_type": "stream",
     "text": [
      "barbari is 10 years old\n",
      "barbari says I'm hungry\n",
      "barbari My dog is not hungry anymore  \n",
      "ferri is 3600 years old\n",
      "ferri says I'm hungry\n",
      "ferri My dog is not hungry anymore  \n",
      "javaher is 1800 years old\n",
      "javaher says I'm hungry\n",
      "javaher My dog is not hungry anymore  \n"
     ]
    }
   ],
   "source": [
    "# Parent class\n",
    "class Dog:\n",
    "\n",
    "    # Class attribute\n",
    "    species = 'mammal'\n",
    "\n",
    "    # Initializer / Instance attributes\n",
    "    def __init__(self, name, age, is_hungry=True):\n",
    "        self.name = name\n",
    "        self.age = age\n",
    "        self.is_hungry = is_hungry\n",
    "\n",
    "    # instance method\n",
    "    def description(self):\n",
    "        return \"{} is {} years old\".format(self.name, self.age)\n",
    "    \n",
    "     # instance method\n",
    "    def speak(self, sound):\n",
    "        return \"{} says {}\".format(self.name, sound)\n",
    "    \n",
    "    # instance method\n",
    "    def eat(self):\n",
    "        self.is_hungry = False\n",
    "        return \"{} My dog is not hungry anymore  \" .format(self.name)\n",
    "\n",
    "# Child class (inherits from Dog class)\n",
    "class RussellTerrier(Dog):\n",
    "    def run(self, speed):\n",
    "        return \"{} runs {}\".format(self.name, speed)\n",
    "\n",
    "# Child class (inherits from Dog class)\n",
    "class Bulldog(Dog):\n",
    "    def run(self, speed):\n",
    "        return \"{} runs {}\".format(self.name, speed)\n",
    "\n",
    "\n",
    "bardi = Dog(\"barbari\", age=10, is_hungry=True)\n",
    "mohse = Bulldog(\"javaher\", 1800)\n",
    "farha = RussellTerrier(\"ferri\", 3600, True)\n",
    "\n",
    "for d in [bardi, farha, mohse]:\n",
    "#     print(d.is_hungry)\n",
    "    print(d.description())\n",
    "    if d.is_hungry:\n",
    "        print(d.speak(\"I'm hungry\"))\n",
    "        print(d.eat())\n",
    "    else:\n",
    "        print(d.speak(\"I am not hungry\"))\n"
   ]
  },
  {
   "cell_type": "code",
   "execution_count": null,
   "metadata": {},
   "outputs": [],
   "source": []
  }
 ],
 "metadata": {
  "kernelspec": {
   "display_name": "Python 3",
   "language": "python",
   "name": "python3"
  },
  "language_info": {
   "codemirror_mode": {
    "name": "ipython",
    "version": 3
   },
   "file_extension": ".py",
   "mimetype": "text/x-python",
   "name": "python",
   "nbconvert_exporter": "python",
   "pygments_lexer": "ipython3",
   "version": "3.8.3"
  }
 },
 "nbformat": 4,
 "nbformat_minor": 2
}

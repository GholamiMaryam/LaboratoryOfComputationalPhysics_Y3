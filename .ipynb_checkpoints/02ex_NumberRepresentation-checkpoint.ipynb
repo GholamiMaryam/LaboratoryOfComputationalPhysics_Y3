{
 "cells": [
  {
   "cell_type": "markdown",
   "metadata": {},
   "source": [
    "1\\. Write a function that converts number representation (bin<->dec<->hex)"
   ]
  },
  {
   "cell_type": "code",
   "execution_count": null,
   "metadata": {},
   "outputs": [],
   "source": [
    " #insert your binary number with 0b and the hexadecimal number with 0x \n",
    "    \n",
    "def changing_binary_to_decimal(y):\n",
    "    return('The decimal form of the binary number is', int(y))\n",
    "def changing_hexadecimal_to_decimal(x):\n",
    "\treturn ('The decimal form of the hexadecimal number is ' ,int(x))\n",
    "def changing_hexadecimal_to_binary(z):\n",
    "\tdec=int(z)\n",
    "\treturn('The dinary form of the hexadecimal number is',bin(dec))\n",
    "def changing_decimal_to_binary(w):\n",
    "\treturn('The binary form of the decimal number is',bin(w))\n",
    "def changing_decimal_to_hexadecimal(v):\n",
    "    return('The hexadecimal form of the binary number is',hex(v))\n",
    "def changing_binary_to_hexadecimal(p):\n",
    "\tdec=int(p)\n",
    "\treturn(' The hexadecimal form of the binary number is',hex(p))"
   ]
  },
  {
   "cell_type": "markdown",
   "metadata": {},
   "source": [
    "2\\. Write a function that converts a 32 bit word into a single precision floating point (i.e. interprets the various bits as sign, mantissa and exponent)"
   ]
  },
  {
   "cell_type": "code",
   "execution_count": 11,
   "metadata": {},
   "outputs": [
    {
     "name": "stdout",
     "output_type": "stream",
     "text": [
      "number10100011010101111001110010101111\n"
     ]
    },
    {
     "data": {
      "text/plain": [
       "\"The sign bit is 1, the exponent bits are ['0', '1', '0', '0', '0', '1', '1', '0'] and the mantissa bits are ['1', '0', '1', '0', '1', '1', '1', '1', '0', '0', '1', '1', '1', '0', '0', '1', '0', '1', '0', '1', '1', '1', '1']\""
      ]
     },
     "execution_count": 11,
     "metadata": {},
     "output_type": "execute_result"
    }
   ],
   "source": [
    "def a_32_bits_converter(number):\n",
    "    number=list(number)\n",
    "    sign=number[0]\n",
    "    exponent=number[1:9]\n",
    "    mantissa=number[9:33]\n",
    "    return('The sign bit is {}, the exponent bits are {} and the mantissa bits are {}'. format(sign,exponent,mantissa) )\n",
    "\n",
    "number=input('number')\n",
    "a_32_bits_converter(number)"
   ]
  },
  {
   "cell_type": "markdown",
   "metadata": {},
   "source": [
    "3\\. Write a program to determine the underflow and overflow limits (within a factor of 2) for python on your computer. \n",
    "\n",
    "**Tips**: define two variables inizialized to 1 and halve/double them enough time to exceed the under/over-flow limits  "
   ]
  },
  {
   "cell_type": "code",
   "execution_count": 23,
   "metadata": {},
   "outputs": [
    {
     "name": "stdout",
     "output_type": "stream",
     "text": [
      "5e-324\n"
     ]
    }
   ],
   "source": [
    "# underflow\n",
    "a=1\n",
    "while (a!=0) :\n",
    "    b=a\n",
    "    a=a/2\n",
    "print(b)"
   ]
  },
  {
   "cell_type": "code",
   "execution_count": null,
   "metadata": {},
   "outputs": [],
   "source": [
    "#overflow\n",
    "a=1\n",
    "b=2\n",
    "while (a<b):\n",
    "    a=a+1\n",
    "    b=b*2\n",
    "print(b)"
   ]
  },
  {
   "cell_type": "markdown",
   "metadata": {},
   "source": [
    "4\\. Write a program to determine the machine precision\n",
    "\n",
    "**Tips**: define a new variable by adding a smaller and smaller value (proceeding similarly to prob. 2) to an original variable and check the point where the two are the same "
   ]
  },
  {
   "cell_type": "code",
   "execution_count": 24,
   "metadata": {},
   "outputs": [
    {
     "name": "stdout",
     "output_type": "stream",
     "text": [
      "1.3877787807814457e-17 56\n"
     ]
    }
   ],
   "source": [
    "i = 0\n",
    "precision= 1\n",
    "while((float(0.3)+precision)!=float(0.3)) :\n",
    "    precision = precision/2\n",
    "    i=i+1\n",
    "\n",
    "print(precision,i)"
   ]
  },
  {
   "cell_type": "markdown",
   "metadata": {},
   "source": [
    "5\\. Write a function that takes in input three parameters $a$, $b$ and $c$ and prints out the two solutions to the quadratic equation $ax^2+bx+c=0$ using the standard formula:\n",
    "$$\n",
    "x=\\frac{-b\\pm\\sqrt{b^2-4ac}}{2a}\n",
    "$$\n",
    "\n",
    "(a) use the program to compute the solution for $a=0.001$, $b=1000$ and $c=0.001$\n",
    "\n",
    "(b) re-express the standard solution formula by multiplying top and bottom by $-b\\mp\\sqrt{b^2-4ac}$ and again find the solution for $a=0.001$, $b=1000$ and $c=0.001$. How does it compare with what previously obtained? Why?\n",
    "\n",
    "(c) write a function that compute the roots of a quadratic equation accurately in all cases"
   ]
  },
  {
   "cell_type": "code",
   "execution_count": 12,
   "metadata": {},
   "outputs": [
    {
     "data": {
      "text/plain": [
       "(-1.9999999949504856e-09, -1.000000002)"
      ]
     },
     "execution_count": 12,
     "metadata": {},
     "output_type": "execute_result"
    }
   ],
   "source": [
    "\n",
    "def func1(a,b,c):\n",
    "    first_root=(((-b)+((b*b)**0.5-4*a*c))/2*a)\n",
    "    second_root=(((-b)-((b*b)**0.5+4*a*c))/2*a)\n",
    "    return( first_root,second_root)\n",
    "    \n",
    "func1(0.001,1000,0.001)"
   ]
  },
  {
   "cell_type": "code",
   "execution_count": 14,
   "metadata": {},
   "outputs": [
    {
     "data": {
      "text/plain": [
       "(-1999.999996, 3.999999989900971e-06)"
      ]
     },
     "execution_count": 14,
     "metadata": {},
     "output_type": "execute_result"
    }
   ],
   "source": [
    "\n",
    "def func2(a,b,c):\n",
    "    first_root=(((-b)-((b*b)**0.5-4*a*c)))\n",
    "    second_root=(((-b)+((b*b)**0.5+4*a*c)))\n",
    "    return (first_root,second_root)\n",
    "    \n",
    "func2(0.001,1000,0.001)"
   ]
  },
  {
   "cell_type": "markdown",
   "metadata": {},
   "source": [
    "6\\. Write a program that implements the function $f(x)=x(x−1)$\n",
    "\n",
    "(a) Calculate the derivative of the function at the point $x = 1$ using the derivative definition:\n",
    "\n",
    "$$\n",
    "\\frac{{\\rm d}f}{{\\rm d}x} = \\lim_{\\delta\\to0} \\frac{f(x+\\delta)-f(x)}{\\delta}\n",
    "$$\n",
    "\n",
    "with $\\delta = 10^{−2}$. Calculate the true value of the same derivative analytically and compare with the answer your program gives. The two will not agree perfectly. Why not?\n",
    "\n",
    "(b) Repeat the calculation for $\\delta = 10^{−4}, 10^{−6}, 10^{−8}, 10^{−10}, 10^{−12}$ and $10^{−14}$. How does the accuracy scales with $\\delta$?"
   ]
  },
  {
   "cell_type": "code",
   "execution_count": 19,
   "metadata": {},
   "outputs": [
    {
     "name": "stdout",
     "output_type": "stream",
     "text": [
      "1.010000000000001\n",
      "1.0000999999998899\n",
      "1.0000999999998899\n"
     ]
    },
    {
     "ename": "TypeError",
     "evalue": "unsupported operand type(s) for -: 'int' and 'NoneType'",
     "output_type": "error",
     "traceback": [
      "\u001b[1;31m---------------------------------------------------------------------------\u001b[0m",
      "\u001b[1;31mTypeError\u001b[0m                                 Traceback (most recent call last)",
      "\u001b[1;32m<ipython-input-19-89cbd34d8fbb>\u001b[0m in \u001b[0;36m<module>\u001b[1;34m\u001b[0m\n\u001b[0;32m     13\u001b[0m \u001b[1;32mfor\u001b[0m \u001b[0mdelta\u001b[0m \u001b[1;32min\u001b[0m \u001b[0mDeltas\u001b[0m \u001b[1;33m:\u001b[0m\u001b[1;33m\u001b[0m\u001b[1;33m\u001b[0m\u001b[0m\n\u001b[0;32m     14\u001b[0m     \u001b[0mderivation_function\u001b[0m\u001b[1;33m(\u001b[0m\u001b[0mx\u001b[0m\u001b[1;33m,\u001b[0m\u001b[0mdelta\u001b[0m\u001b[1;33m)\u001b[0m\u001b[1;33m\u001b[0m\u001b[1;33m\u001b[0m\u001b[0m\n\u001b[1;32m---> 15\u001b[1;33m     \u001b[0merror\u001b[0m\u001b[1;33m=\u001b[0m\u001b[0mvalue\u001b[0m \u001b[1;33m-\u001b[0m \u001b[0mderivation_function\u001b[0m\u001b[1;33m(\u001b[0m\u001b[0mx\u001b[0m\u001b[1;33m,\u001b[0m\u001b[0mdelta\u001b[0m\u001b[1;33m)\u001b[0m\u001b[1;33m\u001b[0m\u001b[1;33m\u001b[0m\u001b[0m\n\u001b[0m\u001b[0;32m     16\u001b[0m     \u001b[0mprint\u001b[0m\u001b[1;33m(\u001b[0m\u001b[1;34m'our error is'\u001b[0m\u001b[1;33m,\u001b[0m \u001b[0merror\u001b[0m\u001b[1;33m)\u001b[0m\u001b[1;33m\u001b[0m\u001b[1;33m\u001b[0m\u001b[0m\n\u001b[0;32m     17\u001b[0m \u001b[1;33m\u001b[0m\u001b[0m\n",
      "\u001b[1;31mTypeError\u001b[0m: unsupported operand type(s) for -: 'int' and 'NoneType'"
     ]
    }
   ],
   "source": [
    "def func(x):\n",
    "    return(x*(x-1))\n",
    "\n",
    "def derivation_function(x,delta):\n",
    "    df=((func(x+delta)-func(x))/delta)\n",
    "    print(df)\n",
    "    \n",
    "x=1\n",
    "delta=10**(-2)\n",
    "derivation_function(x,delta)\n",
    "value=1\n",
    "Deltas=[10**(-4),10**(-6),10**(-8),10**(-10),10**(-12),10**(-14)]\n",
    "for delta in Deltas :\n",
    "    derivation_function(x,delta)\n",
    "    error=value - derivation_function(x,delta)\n",
    "    print('our error is', error)\n",
    "    \n",
    "    \n",
    "    \n"
   ]
  },
  {
   "cell_type": "markdown",
   "metadata": {},
   "source": [
    "7\\. Consider the integral of the semicircle of radius 1:\n",
    "$$\n",
    "I=\\int_{-1}^{1} \\sqrt(1-x^2) {\\rm d}x\n",
    "$$\n",
    "which it's known to be $I=\\frac{\\pi}{2}=1.57079632679...$.\n",
    "Alternatively we can use the Riemann definition of the integral:\n",
    "$$\n",
    "I=\\lim_{N\\to\\infty} \\sum_{k=1}^{N} h y_k \n",
    "$$\n",
    "\n",
    "with $h=2/N$ the width of each of the $N$ slices the domain is divided into and where\n",
    "$y_k$ is the value of the function at the $k-$th slice.\n",
    "\n",
    "(a) Write a programe to compute the integral with $N=100$. How does the result compares to the true value?\n",
    "\n",
    "(b) How much can $N$ be increased if the computation needs to be run in less than a second? What is the gain in running it for 1 minute? \n"
   ]
  },
  {
   "cell_type": "code",
   "execution_count": 22,
   "metadata": {},
   "outputs": [
    {
     "name": "stdout",
     "output_type": "stream",
     "text": [
      "290 µs ± 13.8 µs per loop (mean ± std. dev. of 7 runs, 1000 loops each)\n",
      "2.86 ms ± 104 µs per loop (mean ± std. dev. of 7 runs, 100 loops each)\n"
     ]
    }
   ],
   "source": [
    "import math\n",
    "def func(x):\n",
    "    return((1-x**2)**0.5)\n",
    "\n",
    "def SUM(N) :\n",
    "    domain=[-1 + i*(2/N) for i in range(N)]\n",
    "    y=[(2/N)*func(d) for d in domain]\n",
    "    return ('the error is:',(math.pi)/2-sum(y))\n",
    "\n",
    "N=100\n",
    "SUM(N)\n",
    "%timeit SUM(N)\n",
    "\n",
    "N=1000\n",
    "SUM(N)\n",
    "%timeit SUM(N)"
   ]
  },
  {
   "cell_type": "code",
   "execution_count": null,
   "metadata": {},
   "outputs": [],
   "source": []
  }
 ],
 "metadata": {
  "kernelspec": {
   "display_name": "Python 3",
   "language": "python",
   "name": "python3"
  },
  "language_info": {
   "codemirror_mode": {
    "name": "ipython",
    "version": 3
   },
   "file_extension": ".py",
   "mimetype": "text/x-python",
   "name": "python",
   "nbconvert_exporter": "python",
   "pygments_lexer": "ipython3",
   "version": "3.8.3"
  }
 },
 "nbformat": 4,
 "nbformat_minor": 2
}
